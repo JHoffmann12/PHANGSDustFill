{
 "cells": [
  {
   "cell_type": "code",
   "execution_count": null,
   "metadata": {},
   "outputs": [
    {
     "name": "stdout",
     "output_type": "stream",
     "text": [
      "5.495794986452879\n",
      "205.23417105963816\n",
      "206.24429170142685\n",
      "239.20995320179912\n",
      "248.0572209286093\n"
     ]
    }
   ],
   "source": [
    "import numpy as np\n",
    "import os\n",
    "from astropy.io import fits\n",
    "import matplotlib.pyplot as plt\n",
    "\n",
    "Region = \"ngc0628\"\n",
    "Band = \"F770W\"\n",
    "synthetic_dir = r\"C:\\Users\\HP\\Documents\\JHU_Academics\\Research\\FilPHANGS\\ngc0628_F770W\\SyntheticMap\"\n",
    "\n",
    "original_image_path = r\"C:\\Users\\HP\\Documents\\JHU_Academics\\Research\\FilPHANGS\\OriginalImages\\ngc0628_F770W_JWST_starsub.fits\"\n",
    "with fits.open(original_image_path) as hdul:\n",
    "    orig_image_data = hdul[0].data\n",
    "    header = hdul[0].header\n",
    "\n",
    "orig_image_data = np.nan_to_num(orig_image_data, nan=0.0)  # Replace NaNs with 0\n",
    "\n",
    "\n",
    "reconstructed_image = np.zeros_like(orig_image_data)\n",
    "\n",
    "for file in os.listdir(synthetic_dir):\n",
    "    file_path = os.path.join(synthetic_dir, file)\n",
    "    if not file_path.endswith('.fits') and \"Reconstruction\" in file_path or \"Subtraction\" in file_path:  # Skip non-FITS files\n",
    "        continue\n",
    "    with fits.open(file_path) as hdul:\n",
    "        image_data = hdul[0].data\n",
    "    if np.shape(image_data) != np.shape(orig_image_data):\n",
    "        print(f\"Shape mismatch: Original image shape {np.shape(orig_image_data)}, synthetic map {file} shape: {np.shape(image_data)}\")\n",
    "        continue  # Skip mismatched files\n",
    "    reconstructed_image += image_data\n",
    "    print(np.max(reconstructed_image))\n",
    "\n",
    "save_path = os.path.join(synthetic_dir, f\"Reconstruction_of_Original_{Region}_{Band}.fits\")\n",
    "hdu = fits.PrimaryHDU(reconstructed_image, header=header)\n",
    "hdu.writeto(save_path, overwrite=True)\n",
    "\n",
    "subtracted_image = orig_image_data - reconstructed_image\n",
    "save_path = os.path.join(synthetic_dir, f\"SubtrcationOfOriginalAndSynthetic_{Region}_{Band}.fits\")\n",
    "hdu = fits.PrimaryHDU(subtracted_image, header=header)\n",
    "hdu.writeto(save_path, overwrite=True)\n",
    "\n"
   ]
  }
 ],
 "metadata": {
  "kernelspec": {
   "display_name": "PHANGS",
   "language": "python",
   "name": "python3"
  },
  "language_info": {
   "codemirror_mode": {
    "name": "ipython",
    "version": 3
   },
   "file_extension": ".py",
   "mimetype": "text/x-python",
   "name": "python",
   "nbconvert_exporter": "python",
   "pygments_lexer": "ipython3",
   "version": "3.12.4"
  }
 },
 "nbformat": 4,
 "nbformat_minor": 2
}
