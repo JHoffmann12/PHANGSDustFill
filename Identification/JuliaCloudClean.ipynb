{
 "cells": [
  {
   "cell_type": "markdown",
   "id": "0751bac4",
   "metadata": {},
   "source": [
    "# WISE Infilling Example"
   ]
  },
  {
   "cell_type": "markdown",
   "id": "fa7a153a",
   "metadata": {},
   "source": [
    "Example of using proc_continuous to infill an arbitrary masked region of an image. This examples uses a subimage from the WISE 12 um dust map (tile 115).\n",
    "\n",
    "Requires Julia Kernel"
   ]
  },
  {
   "cell_type": "code",
   "execution_count": null,
   "id": "9e57ed0a",
   "metadata": {},
   "outputs": [],
   "source": [
    "# import Pkg\n",
    "# Pkg.add(\"FITSIO\")\n",
    "# Pkg.add(\"StatsBase\")\n",
    "# Pkg.add(\"CairoMakie\")\n",
    "# Pkg.add(\"ColorSchemes\")\n",
    "# Pkg.add(\"OffsetArrays\")\n",
    "# Pkg.add(url=\"https://github.com/andrew-saydjari/CloudClean.jl\")"
   ]
  },
  {
   "cell_type": "code",
   "execution_count": null,
   "id": "9046caaf",
   "metadata": {},
   "outputs": [
    {
     "name": "stderr",
     "output_type": "stream",
     "text": [
      "\u001b[32m\u001b[1m    Updating\u001b[22m\u001b[39m registry at `C:\\Users\\jhoffm72\\.julia\\registries\\General.toml`\n",
      "\u001b[32m\u001b[1m   Resolving\u001b[22m\u001b[39m package versions...\n",
      "\u001b[32m\u001b[1m   Installed\u001b[22m\u001b[39m libsodium_jll ─── v1.0.21+0\n",
      "\u001b[32m\u001b[1m   Installed\u001b[22m\u001b[39m MbedTLS ───────── v1.1.9\n",
      "\u001b[32m\u001b[1m   Installed\u001b[22m\u001b[39m ZeroMQ_jll ────── v4.3.6+0\n",
      "\u001b[32m\u001b[1m   Installed\u001b[22m\u001b[39m SoftGlobalScope ─ v1.1.0\n",
      "\u001b[32m\u001b[1m   Installed\u001b[22m\u001b[39m VersionParsing ── v1.3.0\n",
      "\u001b[32m\u001b[1m   Installed\u001b[22m\u001b[39m ZMQ ───────────── v1.4.1\n",
      "\u001b[32m\u001b[1m   Installed\u001b[22m\u001b[39m IJulia ────────── v1.29.0\n",
      "\u001b[32m\u001b[1m   Installed\u001b[22m\u001b[39m Conda ─────────── v1.10.2\n",
      "\u001b[32m\u001b[1m    Updating\u001b[22m\u001b[39m `C:\\Users\\jhoffm72\\.julia\\environments\\v1.11\\Project.toml`\n",
      "  \u001b[90m[7073ff75] \u001b[39m\u001b[92m+ IJulia v1.29.0\u001b[39m\n",
      "\u001b[32m\u001b[1m    Updating\u001b[22m\u001b[39m `C:\\Users\\jhoffm72\\.julia\\environments\\v1.11\\Manifest.toml`\n",
      "  \u001b[90m[8f4d0f93] \u001b[39m\u001b[92m+ Conda v1.10.2\u001b[39m\n",
      "  \u001b[90m[7073ff75] \u001b[39m\u001b[92m+ IJulia v1.29.0\u001b[39m\n",
      "  \u001b[90m[739be429] \u001b[39m\u001b[92m+ MbedTLS v1.1.9\u001b[39m\n",
      "  \u001b[90m[b85f4697] \u001b[39m\u001b[92m+ SoftGlobalScope v1.1.0\u001b[39m\n",
      "  \u001b[90m[81def892] \u001b[39m\u001b[92m+ VersionParsing v1.3.0\u001b[39m\n",
      "  \u001b[90m[c2297ded] \u001b[39m\u001b[92m+ ZMQ v1.4.1\u001b[39m\n",
      "  \u001b[90m[8f1865be] \u001b[39m\u001b[92m+ ZeroMQ_jll v4.3.6+0\u001b[39m\n",
      "  \u001b[90m[a9144af2] \u001b[39m\u001b[92m+ libsodium_jll v1.0.21+0\u001b[39m\n",
      "\u001b[32m\u001b[1m    Building\u001b[22m\u001b[39m Conda ─→ `C:\\Users\\jhoffm72\\.julia\\scratchspaces\\44cfe95a-1eb2-52ea-b672-e2afdf69b78f\\b19db3927f0db4151cb86d073689f2428e524576\\build.log`\n",
      "\u001b[32m\u001b[1m    Building\u001b[22m\u001b[39m IJulia → `C:\\Users\\jhoffm72\\.julia\\scratchspaces\\44cfe95a-1eb2-52ea-b672-e2afdf69b78f\\9e60d328aa8060368d6dadd24b644d0ebaf0c1cb\\build.log`\n",
      "\u001b[92m\u001b[1mPrecompiling\u001b[22m\u001b[39m project...\n",
      "   8357.0 ms\u001b[32m  ✓ \u001b[39m\u001b[90mVersionParsing\u001b[39m\n",
      "   8137.6 ms\u001b[32m  ✓ \u001b[39m\u001b[90mlibsodium_jll\u001b[39m\n",
      "   6743.5 ms\u001b[32m  ✓ \u001b[39m\u001b[90mMbedTLS\u001b[39m\n",
      "   6739.5 ms\u001b[32m  ✓ \u001b[39m\u001b[90mSoftGlobalScope\u001b[39m\n",
      "    443.5 ms\u001b[32m  ✓ \u001b[39m\u001b[90mZeroMQ_jll\u001b[39m\n",
      "    605.3 ms\u001b[32m  ✓ \u001b[39m\u001b[90mConda\u001b[39m\n",
      "   1356.8 ms\u001b[32m  ✓ \u001b[39m\u001b[90mZMQ\u001b[39m\n",
      "   2326.9 ms\u001b[32m  ✓ \u001b[39mIJulia\n",
      "  8 dependencies successfully precompiled in 26 seconds. 294 already precompiled.\n",
      "┌ Info: Installing 'julia 1.11.5' kernelspec in C:\\Users\\jhoffm72\\AppData\\Roaming\\jupyter\\kernels\\julia-1.11\n",
      "└ @ IJulia C:\\Users\\jhoffm72\\.julia\\packages\\IJulia\\0TYRi\\deps\\kspec.jl:120\n"
     ]
    },
    {
     "data": {
      "text/plain": [
       "\"C:\\\\Users\\\\jhoffm72\\\\AppData\\\\Roaming\\\\jupyter\\\\kernels\\\\julia-1.11\""
      ]
     },
     "metadata": {},
     "output_type": "display_data"
    }
   ],
   "source": [
    "# using Pkg\n",
    "# Pkg.add(\"IJulia\")\n",
    "# using IJulia\n",
    "# IJulia.installkernel(\"julia\", \"--project=@.\")\n"
   ]
  },
  {
   "cell_type": "code",
   "execution_count": null,
   "id": "5079a053",
   "metadata": {},
   "outputs": [],
   "source": [
    "# Load needed packages\n",
    "\n",
    "using Pkg\n",
    "using FITSIO\n",
    "using StatsBase\n",
    "using CloudClean\n",
    "using CairoMakie\n",
    "using ColorSchemes\n",
    "using OffsetArrays"
   ]
  },
  {
   "cell_type": "code",
   "execution_count": null,
   "id": "71ddbaf6",
   "metadata": {
    "tags": [
     "parameters"
    ]
   },
   "outputs": [],
   "source": [
    "#parameters. right click - format cell - mark as parameters\n",
    "# This cell must be tagged with \"parameters\"\n",
    "\n",
    "image_path = \"default/image/path.fits\"\n",
    "mask_path = \"default/mask/path.fits\"\n",
    "save_path = \"default/save/path.fits\""
   ]
  },
  {
   "cell_type": "code",
   "execution_count": null,
   "id": "6f8e66c1-55b0-4c43-9aee-5c3692e5b1a1",
   "metadata": {},
   "outputs": [
    {
     "ename": "CFITSIO.CFITSIOError{String}",
     "evalue": "CFITSIO has encountered an error while processing /Users/jakehoffmann/Documents/JHU_Research/FilPHANGS_Main/ngc0628_F770W/CDD/ngc0628_F770W_JWST_Emission_starsub_CDDss0016pc.fits. Error code 104: could not open the named file\nDetailed error message follows: \nfailed to find or open the following file: (ffopen)\n/Users/jakehoffmann/Documents/JHU_Research/FilPHANGS_Main/ngc0628_F770W/CDD/ngc0\n628_F770W_JWST_Emission_starsub_CDDss0016pc.fits\n",
     "output_type": "error",
     "traceback": [
      "CFITSIO has encountered an error while processing /Users/jakehoffmann/Documents/JHU_Research/FilPHANGS_Main/ngc0628_F770W/CDD/ngc0628_F770W_JWST_Emission_starsub_CDDss0016pc.fits. Error code 104: could not open the named file\n",
      "Detailed error message follows: \n",
      "failed to find or open the following file: (ffopen)\n",
      "/Users/jakehoffmann/Documents/JHU_Research/FilPHANGS_Main/ngc0628_F770W/CDD/ngc0\n",
      "628_F770W_JWST_Emission_starsub_CDDss0016pc.fits\n",
      "\n",
      "\n",
      "Stacktrace:\n",
      " [1] fits_assert_ok\n",
      "   @ C:\\Users\\jhoffm72\\.julia\\packages\\CFITSIO\\Eetmr\\src\\CFITSIO.jl:342 [inlined]\n",
      " [2] fits_open_file(filename::String, mode::Int64)\n",
      "   @ CFITSIO C:\\Users\\jhoffm72\\.julia\\packages\\CFITSIO\\Eetmr\\src\\CFITSIO.jl:668\n",
      " [3] FITS(filename::String, mode::String; extendedparser::Bool)\n",
      "   @ FITSIO C:\\Users\\jhoffm72\\.julia\\packages\\FITSIO\\VMmjb\\src\\FITSIO.jl:186\n",
      " [4] FITS\n",
      "   @ C:\\Users\\jhoffm72\\.julia\\packages\\FITSIO\\VMmjb\\src\\FITSIO.jl:183 [inlined]\n",
      " [5] FITS(filename::String)\n",
      "   @ FITSIO C:\\Users\\jhoffm72\\.julia\\packages\\FITSIO\\VMmjb\\src\\FITSIO.jl:183\n",
      " [6] top-level scope\n",
      "   @ c:\\Users\\jhoffm72\\Documents\\FilPHANGS\\PHANGSDustFill\\Identification\\jl_notebook_cell_df34fa98e69747e1a8f8a730347b8e2f_W3sZmlsZQ==.jl:16"
     ]
    }
   ],
   "source": [
    "# Open the FITS file and read data and header\n",
    "f = FITS(image_path)\n",
    "raw_image = read(f[1])\n",
    "header = read_header(f[1])\n",
    "close(f)\n",
    "\n",
    "# Make a copy of the raw image data\n",
    "out_image = copy(raw_image)\n",
    "\n",
    "# Replace NaN values with 0.0\n",
    "out_image[isnan.(raw_image)] .= 0.0\n",
    "\n"
   ]
  },
  {
   "cell_type": "code",
   "execution_count": null,
   "id": "fceb784a",
   "metadata": {},
   "outputs": [],
   "source": [
    "# Mask with missing pixels\n",
    "f = FITS(mask_path)\n",
    "raw_mask = read(f[1])\n",
    "close(f)\n",
    "\n",
    "# Convert the raw mask data into a boolean mask (True for masked pixels, False otherwise)\n",
    "bimage = raw_mask .!= 0  # Create a boolean mask, True where non-zero\n",
    "\n",
    "# Now bimage is a boolean array with True for masked pixels and False for unmasked pixels\n",
    "println(\"Mask shape: \", size(bimage))"
   ]
  },
  {
   "cell_type": "code",
   "execution_count": null,
   "id": "6732dc15",
   "metadata": {},
   "outputs": [],
   "source": [
    "Np = 33\n",
    "out_image[bimage].= 0\n",
    "count(bimage)"
   ]
  },
  {
   "cell_type": "code",
   "execution_count": null,
   "id": "4e0b4c5a",
   "metadata": {},
   "outputs": [],
   "source": [
    "# Example values for cenx, ceny, and dv; adjust these based on your data\n",
    "cenx = 579\n",
    "ceny = 579\n",
    "dv = 250\n",
    "\n",
    "# Assuming raw_image is your image data and out_image is the image you want to display\n",
    "# Compute the color range based on percentiles in a region around (cenx, ceny)\n",
    "vmin, vmax = percentile(out_image[(cenx-dv):(cenx+dv), (ceny-dv):(ceny+dv)], [2, 99])\n",
    "\n",
    "# Create a figure for plotting\n",
    "fig = Figure(size=(600, 600), fontsize=18)\n",
    "\n",
    "# Set up the axis with no ticks or labels\n",
    "ax = Axis(fig[1,1], aspect=1, title=\"Masked Original\", xticksvisible=false, yticksvisible=false, \n",
    "          xticklabelsvisible=false, yticklabelsvisible=false)\n",
    "\n",
    "# Display the heatmap using the chosen colormap and the computed color range\n",
    "h = heatmap!(ax, out_image[(cenx-dv):(cenx+dv), (ceny-dv):(ceny+dv)]',\n",
    "    colormap=:rainbow_bgyr_35_85_c73_n256,\n",
    "    colorrange=(vmin, vmax)\n",
    ")\n",
    "\n",
    "# Resize the figure to fit the layout\n",
    "resize_to_layout!(fig)\n",
    "\n",
    "# Show the figure\n",
    "fig\n"
   ]
  },
  {
   "cell_type": "code",
   "execution_count": null,
   "id": "18e88b6c",
   "metadata": {},
   "outputs": [],
   "source": [
    "ndraw0 = 2\n",
    "widx = 129\n",
    "x_locs = [cenx]\n",
    "y_locs = [ceny]\n",
    "star_stats = proc_continuous(out_image,bimage,Np=Np,tilex=4,ftype=64,widx=widx,seed=2022,ndraw=ndraw0)\n",
    "\n",
    "\n",
    "# Debug: Check the structure of star_stats\n",
    "if isa(star_stats, Tuple)\n",
    "    println(\"star_stats is a tuple with length: \", length(star_stats))\n",
    "    for i in 1:length(star_stats)\n",
    "        println(\"star_stats[$i] has type: \", typeof(star_stats[i]), \" and size: \", size(star_stats[i]))\n",
    "    end\n",
    "else\n",
    "    println(\"star_stats is not a tuple. It has type: \", typeof(star_stats))\n",
    "end"
   ]
  },
  {
   "cell_type": "code",
   "execution_count": null,
   "id": "0773b582",
   "metadata": {},
   "outputs": [],
   "source": [
    "cenx = 579\n",
    "ceny = 579\n",
    "dv = 250\n",
    "vmin, vmax = percentile(out_image[(cenx-dv):(cenx+dv),(ceny-dv):(ceny+dv)],[2,99])\n",
    "fig = Figure(size=(600, 600), fontsize=18)\n",
    "ax = Axis(fig[1,1], aspect=1, title=\"Mean Infill\", xticksvisible=false, yticksvisible=false, \n",
    "          xticklabelsvisible=false, yticklabelsvisible=false)\n",
    "h = heatmap!(ax,star_stats[1][(cenx-dv):(cenx+dv),(ceny-dv):(ceny+dv)]',\n",
    "    colormap=:rainbow_bgyr_35_85_c73_n256,\n",
    "    colorrange=(vmin,vmax)\n",
    ")\n",
    "\n",
    "resize_to_layout!(fig)\n",
    "fig"
   ]
  },
  {
   "cell_type": "code",
   "execution_count": null,
   "id": "b9e84f6a",
   "metadata": {},
   "outputs": [],
   "source": [
    "dv = 250\n",
    "fig = Figure(size=(600, 600), fontsize=18)\n",
    "ax = Axis(fig[1,1], aspect=1, title=\"Draw Infill\", xticksvisible=false, yticksvisible=false, \n",
    "          xticklabelsvisible=false, yticklabelsvisible=false)\n",
    "h = heatmap!(ax,star_stats[2][(cenx-dv):(cenx+dv),(ceny-dv):(ceny+dv),1]',\n",
    "    colormap=:rainbow_bgyr_35_85_c73_n256,\n",
    "    colorrange=(vmin,vmax)\n",
    ")\n",
    "\n",
    "# Convert to a standard Array\n",
    "array_data = max.(parent(star_stats[2]), 0)  # Set negative values to zero\n",
    "\n",
    "# Open a FITS file and write\n",
    "FITS(save_path, \"w\") do f\n",
    "    write(f, convert(Array, array_data); header = header)  # Ensure it's a proper Array\n",
    "end"
   ]
  },
  {
   "cell_type": "code",
   "execution_count": null,
   "id": "e972b84c",
   "metadata": {},
   "outputs": [],
   "source": [
    "dv = 250\n",
    "fig = Figure(size=(600, 600), fontsize=18)\n",
    "ax = Axis(fig[1,1], aspect=1, title=\"Original Image\", xticksvisible=false, yticksvisible=false, \n",
    "          xticklabelsvisible=false, yticklabelsvisible=false)\n",
    "h = heatmap!(ax,raw_image[(cenx-dv):(cenx+dv),(ceny-dv):(ceny+dv)]',\n",
    "    colormap=:rainbow_bgyr_35_85_c73_n256,\n",
    "    colorrange=(vmin,vmax)\n",
    ")\n",
    "\n",
    "resize_to_layout!(fig)\n",
    "fig"
   ]
  }
 ],
 "metadata": {
  "kernelspec": {
   "display_name": "Julia 1.11.5",
   "language": "julia",
   "name": "julia-1.11"
  },
  "language_info": {
   "file_extension": ".jl",
   "mimetype": "application/julia",
   "name": "julia",
   "version": "1.11.5"
  }
 },
 "nbformat": 4,
 "nbformat_minor": 5
}
