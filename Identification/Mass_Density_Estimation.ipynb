{
 "cells": [
  {
   "cell_type": "markdown",
   "metadata": {},
   "source": [
    "**NGC0628 CO Intensity estimation and filament mass density calculations**\n",
    "\n",
    "Papers:\n",
    "1) https://arxiv.org/pdf/2410.05397   (I_CO_2_1)\n",
    "2) https://arxiv.org/pdf/1301.3498    (I-CO_2_1 to Mass)"
   ]
  },
  {
   "cell_type": "code",
   "execution_count": 29,
   "metadata": {},
   "outputs": [
    {
     "ename": "ModuleNotFoundError",
     "evalue": "No module named 'AnalysisFuncs'",
     "output_type": "error",
     "traceback": [
      "\u001b[31m---------------------------------------------------------------------------\u001b[39m",
      "\u001b[31mModuleNotFoundError\u001b[39m                       Traceback (most recent call last)",
      "\u001b[36mCell\u001b[39m\u001b[36m \u001b[39m\u001b[32mIn[29]\u001b[39m\u001b[32m, line 11\u001b[39m\n\u001b[32m      9\u001b[39m \u001b[38;5;28;01mfrom\u001b[39;00m\u001b[38;5;250m \u001b[39m\u001b[34;01mastropy\u001b[39;00m\u001b[34;01m.\u001b[39;00m\u001b[34;01mvisualization\u001b[39;00m\u001b[34;01m.\u001b[39;00m\u001b[34;01mmpl_normalize\u001b[39;00m\u001b[38;5;250m \u001b[39m\u001b[38;5;28;01mimport\u001b[39;00m ImageNormalize\n\u001b[32m     10\u001b[39m \u001b[38;5;28;01mfrom\u001b[39;00m\u001b[38;5;250m \u001b[39m\u001b[34;01mphotutils\u001b[39;00m\u001b[34;01m.\u001b[39;00m\u001b[34;01maperture\u001b[39;00m\u001b[38;5;250m \u001b[39m\u001b[38;5;28;01mimport\u001b[39;00m CircularAperture\n\u001b[32m---> \u001b[39m\u001b[32m11\u001b[39m \u001b[38;5;28;01mimport\u001b[39;00m\u001b[38;5;250m \u001b[39m\u001b[34;01mAnalysisFuncs\u001b[39;00m\u001b[38;5;250m \u001b[39m\u001b[38;5;28;01mas\u001b[39;00m\u001b[38;5;250m \u001b[39m\u001b[34;01mAF\u001b[39;00m\n",
      "\u001b[31mModuleNotFoundError\u001b[39m: No module named 'AnalysisFuncs'"
     ]
    }
   ],
   "source": [
    "#imports\n",
    "import numpy as np\n",
    "import os\n",
    "from astropy.io import fits\n",
    "import matplotlib.pyplot as plt\n",
    "from astropy.stats import sigma_clipped_stats\n",
    "from photutils.detection import DAOStarFinder\n",
    "from astropy.visualization import SqrtStretch\n",
    "from astropy.visualization.mpl_normalize import ImageNormalize\n",
    "from photutils.aperture import CircularAperture\n",
    "import AnalysisFuncs as AF\n"
   ]
  },
  {
   "cell_type": "code",
   "execution_count": 16,
   "metadata": {},
   "outputs": [],
   "source": [
    "#Open F700W and F300W or F200W\n",
    "#Need access to F200W image\n",
    "original_image_path = r\"/Users/jakehoffmann/Documents/JHU_Research/FilPHANGS_Main/FilPHANGS_Data/OriginalImages/ngc0628_F770W_JWST_Emission_starsub.fits\"\n",
    "with fits.open(original_image_path) as hdul:\n",
    "    I_F770W = hdul[0].data\n",
    "    header = hdul[0].header\n",
    "    I_F770W = np.nan_to_num(I_F770W)\n",
    "    I_F770W = np.clip(I_F770W, 0, None)  # Set negative values to zero"
   ]
  },
  {
   "cell_type": "code",
   "execution_count": 17,
   "metadata": {},
   "outputs": [],
   "source": [
    "#Ngc0628 Parameters\n",
    "inclination = 9 * np.pi / 180  # Inclination in radians\n",
    "SFR = 1.74"
   ]
  },
  {
   "cell_type": "code",
   "execution_count": 18,
   "metadata": {},
   "outputs": [],
   "source": [
    "#1) Subtract .22*F300W or .13*F200W from F700W\n",
    "#Skip for now"
   ]
  },
  {
   "cell_type": "code",
   "execution_count": 19,
   "metadata": {},
   "outputs": [],
   "source": [
    "#2) Multiply by cos(inclination)\n",
    "I_F770W = I_F770W * np.cos(np.radians(inclination))"
   ]
  },
  {
   "cell_type": "code",
   "execution_count": 20,
   "metadata": {},
   "outputs": [],
   "source": [
    "#3) Estimate log(C_F770W)\n",
    "log_C_F770W = -.21 +.04* (np.log10(SFR) + 10.14) + .03 #This formula has a +/- in the paper...why?"
   ]
  },
  {
   "cell_type": "code",
   "execution_count": 21,
   "metadata": {},
   "outputs": [
    {
     "name": "stderr",
     "output_type": "stream",
     "text": [
      "/var/folders/5p/156pd2n9725b58sg8kk5wwv40000gn/T/ipykernel_49713/3503230551.py:2: RuntimeWarning: divide by zero encountered in log\n",
      "  x = np.log(I_F770W) - log_C_F770W\n"
     ]
    }
   ],
   "source": [
    "#4)define y, x, and calulate log_I_CO_2_1\n",
    "x = np.log(I_F770W) - log_C_F770W\n",
    "log_I_CO_2_1 = (.88+.06)*(x - 1.44) + (1.36+.06) #More +/- in equation...why?"
   ]
  },
  {
   "cell_type": "code",
   "execution_count": 22,
   "metadata": {},
   "outputs": [],
   "source": [
    "#5) Get I_CO__2_1\n",
    "I_CO__2_1 = 10**log_I_CO_2_1\n"
   ]
  },
  {
   "cell_type": "code",
   "execution_count": 23,
   "metadata": {},
   "outputs": [],
   "source": [
    "#Define parameters for Molecular Mass\n",
    "X_CO = 2*10**20 #CO to H2 conversion factor for milky Way #(from Bolatto et al. 2013)\n",
    "z = 657 #km.s redshift (Wikepedia)\n",
    "DL = 9.84 #Distance to NGC 628 in Mpc"
   ]
  },
  {
   "cell_type": "code",
   "execution_count": null,
   "metadata": {},
   "outputs": [
    {
     "name": "stdout",
     "output_type": "stream",
     "text": [
      "Molecular Mass estimation: 4.35E+10 Msol\n",
      "Published Molecular mass: 2.0E+10 Msol\n"
     ]
    }
   ],
   "source": [
    "#6) Calculate molecular mass\n",
    "#Molecular Mass in Msol\n",
    "flux = np.sum(I_CO__2_1) #Sum of I_CO_2_1\n",
    "Molecular_Mass = 1.05*10**4 * ( X_CO/(2*10**20))*(flux*DL**2)/(1+z)\n",
    "print(f\"Molecular Mass estimation: {Molecular_Mass:.2E} Msol\")\n",
    "print(f\"Published Molecular mass: 2.0E+10 Msol\")\n"
   ]
  },
  {
   "cell_type": "code",
   "execution_count": null,
   "metadata": {},
   "outputs": [],
   "source": [
    "#Estimate filament Density from 16pc Synthetic Map\n",
    "original_image_path = r\"/Users/jakehoffmann/Documents/JHU_Research/FilPHANGS_Main/ngc0628_F770W_CDDss0016pc_ModelMap_SorcesRemoved.fits\"\n",
    "with fits.open(original_image_path) as hdul:\n",
    "    I_F770W_16pc = hdul[0].data\n",
    "    header = hdul[0].header\n",
    "    I_F770W_16pc= np.nan_to_num(I_F770W_16pc)\n",
    "    I_F770W_16pc = np.clip(I_F770W_16pc, 0, None)  # Set negative values to zero\n",
    "\n",
    "    #Skip Step 1\n",
    "#2) Multiply by cos(inclination)\n",
    "I_F770W_16pc = I_F770W_16pc * np.cos(np.radians(inclination))\n",
    "#3) Estimate log(C_F770W)\n",
    "log_C_F770W = -.21 +.04* (np.log10(SFR) + 10.14) + .03 #This formula has a +/- in the paper...why?\n",
    "#4)define y, x, and calulate log_I_CO_2_1\n",
    "x = np.log(I_F770W_16pc) - log_C_F770W\n",
    "log_I_CO_2_1_16pc = (.88+.06)*(x - 1.44) + (1.36+.06) #More +/- in equation...why?\n",
    "#5) Get I_CO__2_1\n",
    "I_CO__2_1_16pc = 10**log_I_CO_2_1_16pc\n"
   ]
  },
  {
   "cell_type": "code",
   "execution_count": null,
   "metadata": {},
   "outputs": [],
   "source": [
    "#6) Calculate molecular mass\n",
    "#Molecular Mass in Msol\n",
    "labels, stats, num_labels = AF.identify_connected_components(np.array(skelComposite))\n",
    "small_areas = AF.sort_label_id(num_labels, stats, min_area_pix)\n",
    "for label_id in small_areas:\n",
    "\n",
    "    # Extract the bounding box coordinates\n",
    "    left = stats[label_id, cv2.CC_STAT_LEFT]\n",
    "    top = stats[label_id, cv2.CC_STAT_TOP]\n",
    "    width = stats[label_id, cv2.CC_STAT_WIDTH]\n",
    "    height = stats[label_id, cv2.CC_STAT_HEIGHT]\n",
    "\n",
    "    for x in range(width):\n",
    "        for y in range(height):\n",
    "            img[top:top+height, left:left+width] = 0\n",
    "\n",
    "        skelComposite = img.astype(np.uint8)\n",
    "\n",
    "\n",
    "flux = np.sum(I_CO__2_1_16pc) #Sum of I_CO_2_1\n",
    "Molecular_Mass = 1.05*10**4 * ( X_CO/(2*10**20))*(flux*DL**2)/(1+z)\n",
    "print(f\"Molecular Mass estimation: {Molecular_Mass:.2E} Msol\")\n",
    "print(f\"Published Molecular mass: 2.0E+10 Msol\")"
   ]
  }
 ],
 "metadata": {
  "kernelspec": {
   "display_name": "FilPHANGS_Env",
   "language": "python",
   "name": "python3"
  },
  "language_info": {
   "codemirror_mode": {
    "name": "ipython",
    "version": 3
   },
   "file_extension": ".py",
   "mimetype": "text/x-python",
   "name": "python",
   "nbconvert_exporter": "python",
   "pygments_lexer": "ipython3",
   "version": "3.12.9"
  }
 },
 "nbformat": 4,
 "nbformat_minor": 2
}
